{
 "cells": [
  {
   "cell_type": "code",
   "execution_count": 7,
   "metadata": {},
   "outputs": [],
   "source": [
    "from selenium import webdriver\n",
    "from selenium.webdriver.common.by import By\n",
    "from selenium.webdriver.support.ui import WebDriverWait\n",
    "from selenium.webdriver.support import expected_conditions as EC\n",
    "from selenium.common.exceptions import TimeoutException, NoSuchElementException\n",
    "import time\n",
    "\n",
    "\n",
    "\n",
    "driver = webdriver.Chrome()\n",
    "driver.get(\"https://data.gov.au/dataset/ds-sa-21386a53-56a1-4edf-bd0b-61ed15f10acf/details?q=\")\n",
    "\n",
    "\n",
    "\n",
    "# Wait for the page to load and for the \"Download\" link to be clickable\n",
    "download_link = WebDriverWait(driver, 10).until(EC.element_to_be_clickable((By.LINK_TEXT, \"Download\"))\n",
    ")\n",
    "\n",
    "\n",
    "\n",
    "# Click on the \"Download\" link\n",
    "download_link.click()\n",
    "\n",
    "\n",
    "\n",
    "# Find all elements with the class \"download-button\"\n",
    "download_buttons = WebDriverWait(driver, 30).until(EC.presence_of_all_elements_located((By.CLASS_NAME, \"download-button\"))\n",
    ")\n",
    "\n",
    "\n",
    "\n",
    "# Iterate through each download button and perform actions\n",
    "for index, download_button in enumerate(download_buttons, start=1):\n",
    "    try:\n",
    "        download_button_text = download_button.text\n",
    "        if download_button_text == \"Download\":\n",
    "            download_button.click()\n",
    "            time.sleep(5)  \n",
    "    except (TimeoutException, NoSuchElementException):\n",
    "        print(f\"Failed to click on Download button {index}\")\n"
   ]
  },
  {
   "cell_type": "code",
   "execution_count": null,
   "metadata": {},
   "outputs": [],
   "source": []
  },
  {
   "cell_type": "code",
   "execution_count": null,
   "metadata": {},
   "outputs": [],
   "source": []
  }
 ],
 "metadata": {
  "kernelspec": {
   "display_name": "Python 3",
   "language": "python",
   "name": "python3"
  },
  "language_info": {
   "codemirror_mode": {
    "name": "ipython",
    "version": 3
   },
   "file_extension": ".py",
   "mimetype": "text/x-python",
   "name": "python",
   "nbconvert_exporter": "python",
   "pygments_lexer": "ipython3",
   "version": "3.8.5"
  }
 },
 "nbformat": 4,
 "nbformat_minor": 4
}
