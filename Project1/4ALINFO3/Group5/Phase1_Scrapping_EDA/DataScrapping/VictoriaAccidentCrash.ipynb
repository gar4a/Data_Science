{
 "cells": [
  {
   "cell_type": "code",
   "execution_count": 15,
   "id": "3791ab10",
   "metadata": {},
   "outputs": [
    {
     "name": "stdout",
     "output_type": "stream",
     "text": [
      "Downloading C:\\data-science\\ATMOSPHERIC_COND.csv...\n",
      "Downloading C:\\data-science\\ROAD_SURFACE_COND.csv...\n",
      "Downloading C:\\data-science\\ACCIDENT.csv...\n",
      "Downloading C:\\data-science\\SUB_DCA.csv...\n",
      "Downloading C:\\data-science\\ACCIDENT_EVENT.csv...\n",
      "Downloading C:\\data-science\\NODE.csv...\n",
      "Downloading C:\\data-science\\PERSON.csv...\n",
      "Downloading C:\\data-science\\ACCIDENT_LOCATION.csv...\n",
      "Downloading C:\\data-science\\VEHICLE.csv...\n",
      "File C:\\data-science\\VEHICLE.csv already exists. Skipping download.\n",
      "Download completed.\n"
     ]
    }
   ],
   "source": [
    "import os\n",
    "import requests\n",
    "from bs4 import BeautifulSoup\n",
    "from urllib.parse import urljoin\n",
    " \n",
    "def download_csv_files(url, download_path):\n",
    "    # Send a GET request to the URL\n",
    "    response = requests.get(url)\n",
    "    # Check if the request was successful\n",
    "    if response.status_code == 200:\n",
    "        # Parse HTML content\n",
    "        soup = BeautifulSoup(response.content, 'html.parser')\n",
    "        # Find all links with href ending in '.csv'\n",
    "        csv_links = soup.find_all('a', href=lambda href: href and href.endswith('.csv'))\n",
    "        # Download each CSV file\n",
    "        for link in csv_links:\n",
    "            csv_url = urljoin(url, link['href'])\n",
    "            file_name = os.path.join(download_path, os.path.basename(csv_url))\n",
    "            # Check if file already exists\n",
    "            if not os.path.exists(file_name):\n",
    "                # Download the file\n",
    "                print(f\"Downloading {file_name}...\")\n",
    "                response = requests.get(csv_url)\n",
    "                # Save the file\n",
    "                with open(file_name, 'wb') as f:\n",
    "                    f.write(response.content)\n",
    "            else:\n",
    "                print(f\"File {file_name} already exists. Skipping download.\")\n",
    " \n",
    "        print(\"Download completed.\")\n",
    "    else:\n",
    "        print(\"Failed to retrieve page contents.\")\n",
    " \n",
    "# URL to scrape\n",
    "url = \"https://discover.data.vic.gov.au/dataset/victoria-road-crash-data#\"\n",
    " \n",
    "# Path to save downloaded CSV files\n",
    "download_path = r\"C:\\data-science\"\n",
    " \n",
    "# Create download directory if it doesn't exist\n",
    "if not os.path.exists(download_path):\n",
    "    os.makedirs(download_path)\n",
    " \n",
    "# Call the function to download CSV files\n",
    "download_csv_files(url, download_path)"
   ]
  },
  {
   "cell_type": "code",
   "execution_count": null,
   "id": "09e7a0f8",
   "metadata": {},
   "outputs": [],
   "source": []
  }
 ],
 "metadata": {
  "kernelspec": {
   "display_name": "Python 3 (ipykernel)",
   "language": "python",
   "name": "python3"
  },
  "language_info": {
   "codemirror_mode": {
    "name": "ipython",
    "version": 3
   },
   "file_extension": ".py",
   "mimetype": "text/x-python",
   "name": "python",
   "nbconvert_exporter": "python",
   "pygments_lexer": "ipython3",
   "version": "3.11.5"
  }
 },
 "nbformat": 4,
 "nbformat_minor": 5
}
