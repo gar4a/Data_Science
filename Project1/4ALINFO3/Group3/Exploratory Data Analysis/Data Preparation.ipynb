{
 "cells": [
  {
   "cell_type": "code",
   "execution_count": 2,
   "id": "dd72ff60",
   "metadata": {},
   "outputs": [],
   "source": [
    "import pandas as pd\n",
    "from sklearn.feature_extraction.text import TfidfVectorizer\n",
    "from sklearn.cluster import KMeans\n",
    "import re\n",
    "from sklearn.preprocessing import OneHotEncoder, LabelEncoder,normalize\n",
    "from sklearn.feature_selection import SelectFromModel\n",
    "import nltk\n",
    "from nltk.corpus import stopwords\n",
    "from nltk.stem import PorterStemmer\n",
    "from nltk.tokenize import word_tokenize\n",
    "from nltk.corpus import stopwords\n",
    "from nltk.stem import WordNetLemmatizer"
   ]
  },
  {
   "cell_type": "markdown",
   "id": "597d3b36",
   "metadata": {},
   "source": [
    "# Download necessary NLTK data"
   ]
  },
  {
   "cell_type": "code",
   "execution_count": 100,
   "id": "9efeff21",
   "metadata": {},
   "outputs": [
    {
     "name": "stderr",
     "output_type": "stream",
     "text": [
      "[nltk_data] Downloading package stopwords to\n",
      "[nltk_data]     C:\\Users\\dhia\\AppData\\Roaming\\nltk_data...\n",
      "[nltk_data]   Package stopwords is already up-to-date!\n",
      "[nltk_data] Downloading package wordnet to\n",
      "[nltk_data]     C:\\Users\\dhia\\AppData\\Roaming\\nltk_data...\n",
      "[nltk_data]   Package wordnet is already up-to-date!\n"
     ]
    }
   ],
   "source": [
    "# Download necessary NLTK data\n",
    "nltk.download('stopwords')\n",
    "nltk.download('wordnet')\n",
    "stop_words = set(stopwords.words('english'))\n",
    "lemmatizer = WordNetLemmatizer()"
   ]
  },
  {
   "cell_type": "code",
   "execution_count": 74,
   "id": "ae62fb07",
   "metadata": {},
   "outputs": [],
   "source": [
    "df = pd.read_excel('combined_data.xlsx')"
   ]
  },
  {
   "cell_type": "code",
   "execution_count": 75,
   "id": "8fc38a43",
   "metadata": {},
   "outputs": [],
   "source": [
    "df = pd.read_csv('combined_csv_files.csv',sep=',')"
   ]
  },
  {
   "cell_type": "code",
   "execution_count": 77,
   "id": "b2a4989d",
   "metadata": {},
   "outputs": [
    {
     "name": "stdout",
     "output_type": "stream",
     "text": [
      "<class 'pandas.core.frame.DataFrame'>\n",
      "RangeIndex: 299729 entries, 0 to 299728\n",
      "Data columns (total 17 columns):\n",
      " #   Column            Non-Null Count   Dtype  \n",
      "---  ------            --------------   -----  \n",
      " 0   job_url           299729 non-null  object \n",
      " 1   site              299729 non-null  object \n",
      " 2   title             299729 non-null  object \n",
      " 3   company           299728 non-null  object \n",
      " 4   company_url       214473 non-null  object \n",
      " 5   location          293647 non-null  object \n",
      " 6   job_type          41840 non-null   object \n",
      " 7   date_posted       290623 non-null  object \n",
      " 8   interval          58583 non-null   object \n",
      " 9   min_amount        73970 non-null   float64\n",
      " 10  max_amount        73970 non-null   float64\n",
      " 11  currency          74753 non-null   object \n",
      " 12  is_remote         61292 non-null   object \n",
      " 13  num_urgent_words  143664 non-null  float64\n",
      " 14  benefits          126224 non-null  object \n",
      " 15  emails            10747 non-null   object \n",
      " 16  description       143664 non-null  object \n",
      "dtypes: float64(3), object(14)\n",
      "memory usage: 38.9+ MB\n"
     ]
    }
   ],
   "source": [
    "df.info()"
   ]
  },
  {
   "cell_type": "code",
   "execution_count": 78,
   "id": "55b8e8c4",
   "metadata": {},
   "outputs": [
    {
     "data": {
      "text/plain": [
       "job_url             299729\n",
       "site                299729\n",
       "title               299729\n",
       "company             299728\n",
       "company_url         214473\n",
       "location            293647\n",
       "job_type             41840\n",
       "date_posted         290623\n",
       "interval             58583\n",
       "min_amount           73970\n",
       "max_amount           73970\n",
       "currency             74753\n",
       "is_remote            61292\n",
       "num_urgent_words    143664\n",
       "benefits            126224\n",
       "emails               10747\n",
       "description         143664\n",
       "dtype: int64"
      ]
     },
     "execution_count": 78,
     "metadata": {},
     "output_type": "execute_result"
    }
   ],
   "source": [
    "df.count()"
   ]
  },
  {
   "cell_type": "code",
   "execution_count": 79,
   "id": "917eb27b",
   "metadata": {},
   "outputs": [
    {
     "data": {
      "text/html": [
       "<div>\n",
       "<style scoped>\n",
       "    .dataframe tbody tr th:only-of-type {\n",
       "        vertical-align: middle;\n",
       "    }\n",
       "\n",
       "    .dataframe tbody tr th {\n",
       "        vertical-align: top;\n",
       "    }\n",
       "\n",
       "    .dataframe thead th {\n",
       "        text-align: right;\n",
       "    }\n",
       "</style>\n",
       "<table border=\"1\" class=\"dataframe\">\n",
       "  <thead>\n",
       "    <tr style=\"text-align: right;\">\n",
       "      <th></th>\n",
       "      <th>min_amount</th>\n",
       "      <th>max_amount</th>\n",
       "      <th>num_urgent_words</th>\n",
       "    </tr>\n",
       "  </thead>\n",
       "  <tbody>\n",
       "    <tr>\n",
       "      <th>count</th>\n",
       "      <td>73970.000000</td>\n",
       "      <td>7.397000e+04</td>\n",
       "      <td>143664.000000</td>\n",
       "    </tr>\n",
       "    <tr>\n",
       "      <th>mean</th>\n",
       "      <td>44931.790164</td>\n",
       "      <td>5.841125e+04</td>\n",
       "      <td>0.039648</td>\n",
       "    </tr>\n",
       "    <tr>\n",
       "      <th>std</th>\n",
       "      <td>46913.513532</td>\n",
       "      <td>6.521055e+04</td>\n",
       "      <td>0.218394</td>\n",
       "    </tr>\n",
       "    <tr>\n",
       "      <th>min</th>\n",
       "      <td>0.000000</td>\n",
       "      <td>-1.000000e+00</td>\n",
       "      <td>0.000000</td>\n",
       "    </tr>\n",
       "    <tr>\n",
       "      <th>25%</th>\n",
       "      <td>70.000000</td>\n",
       "      <td>8.500000e+01</td>\n",
       "      <td>0.000000</td>\n",
       "    </tr>\n",
       "    <tr>\n",
       "      <th>50%</th>\n",
       "      <td>40000.000000</td>\n",
       "      <td>5.000000e+04</td>\n",
       "      <td>0.000000</td>\n",
       "    </tr>\n",
       "    <tr>\n",
       "      <th>75%</th>\n",
       "      <td>65779.540000</td>\n",
       "      <td>8.500000e+04</td>\n",
       "      <td>0.000000</td>\n",
       "    </tr>\n",
       "    <tr>\n",
       "      <th>max</th>\n",
       "      <td>500000.000000</td>\n",
       "      <td>1.400000e+06</td>\n",
       "      <td>5.000000</td>\n",
       "    </tr>\n",
       "  </tbody>\n",
       "</table>\n",
       "</div>"
      ],
      "text/plain": [
       "          min_amount    max_amount  num_urgent_words\n",
       "count   73970.000000  7.397000e+04     143664.000000\n",
       "mean    44931.790164  5.841125e+04          0.039648\n",
       "std     46913.513532  6.521055e+04          0.218394\n",
       "min         0.000000 -1.000000e+00          0.000000\n",
       "25%        70.000000  8.500000e+01          0.000000\n",
       "50%     40000.000000  5.000000e+04          0.000000\n",
       "75%     65779.540000  8.500000e+04          0.000000\n",
       "max    500000.000000  1.400000e+06          5.000000"
      ]
     },
     "execution_count": 79,
     "metadata": {},
     "output_type": "execute_result"
    }
   ],
   "source": [
    "df.describe()"
   ]
  },
  {
   "cell_type": "code",
   "execution_count": 80,
   "id": "224afa27",
   "metadata": {},
   "outputs": [
    {
     "data": {
      "text/plain": [
       "job_url                  0\n",
       "site                     0\n",
       "title                    0\n",
       "company                  1\n",
       "company_url          85256\n",
       "location              6082\n",
       "job_type            257889\n",
       "date_posted           9106\n",
       "interval            241146\n",
       "min_amount          225759\n",
       "max_amount          225759\n",
       "currency            224976\n",
       "is_remote           238437\n",
       "num_urgent_words    156065\n",
       "benefits            173505\n",
       "emails              288982\n",
       "description         156065\n",
       "dtype: int64"
      ]
     },
     "execution_count": 80,
     "metadata": {},
     "output_type": "execute_result"
    }
   ],
   "source": [
    "df.isnull().sum()"
   ]
  },
  {
   "cell_type": "code",
   "execution_count": 81,
   "id": "8eb2445a",
   "metadata": {},
   "outputs": [],
   "source": [
    "filtered_df = df[df['description'].notnull()]"
   ]
  },
  {
   "cell_type": "code",
   "execution_count": 82,
   "id": "c778e452",
   "metadata": {},
   "outputs": [
    {
     "data": {
      "text/plain": [
       "job_url                  0\n",
       "site                     0\n",
       "title                    0\n",
       "company                  0\n",
       "company_url          85254\n",
       "location                 0\n",
       "job_type            101833\n",
       "date_posted              0\n",
       "interval             85082\n",
       "min_amount           85866\n",
       "max_amount           85866\n",
       "currency             85083\n",
       "is_remote            82382\n",
       "num_urgent_words         0\n",
       "benefits            143664\n",
       "emails              132917\n",
       "description              0\n",
       "dtype: int64"
      ]
     },
     "execution_count": 82,
     "metadata": {},
     "output_type": "execute_result"
    }
   ],
   "source": [
    "filtered_df.isna().sum()"
   ]
  },
  {
   "cell_type": "code",
   "execution_count": 83,
   "id": "1f705cd5",
   "metadata": {},
   "outputs": [
    {
     "name": "stderr",
     "output_type": "stream",
     "text": [
      "C:\\Users\\dhia\\AppData\\Local\\Temp\\ipykernel_16708\\3803129857.py:3: SettingWithCopyWarning: \n",
      "A value is trying to be set on a copy of a slice from a DataFrame\n",
      "\n",
      "See the caveats in the documentation: https://pandas.pydata.org/pandas-docs/stable/user_guide/indexing.html#returning-a-view-versus-a-copy\n",
      "  filtered_df[col].fillna(filtered_df[col].median(), inplace=True)\n"
     ]
    }
   ],
   "source": [
    "numerical_cols = ['min_amount', 'max_amount', 'num_urgent_words']\n",
    "for col in numerical_cols:\n",
    "    filtered_df[col].fillna(filtered_df[col].median(), inplace=True)"
   ]
  },
  {
   "cell_type": "code",
   "execution_count": 84,
   "id": "8a516817",
   "metadata": {},
   "outputs": [],
   "source": [
    "# Step 2: Exclude sparse columns ('emails', 'benefits')\n",
    "columns_to_exclude = ['emails', 'benefits','interval','currency','company_url']\n",
    "combined_data_cleaned = filtered_df.drop(columns=columns_to_exclude)"
   ]
  },
  {
   "cell_type": "code",
   "execution_count": 85,
   "id": "1a9bb40f",
   "metadata": {},
   "outputs": [
    {
     "data": {
      "text/plain": [
       "job_url                  0\n",
       "site                     0\n",
       "title                    0\n",
       "company                  0\n",
       "location                 0\n",
       "job_type            101833\n",
       "date_posted              0\n",
       "min_amount               0\n",
       "max_amount               0\n",
       "is_remote            82382\n",
       "num_urgent_words         0\n",
       "description              0\n",
       "dtype: int64"
      ]
     },
     "execution_count": 85,
     "metadata": {},
     "output_type": "execute_result"
    }
   ],
   "source": [
    "combined_data_cleaned.isna().sum()"
   ]
  },
  {
   "cell_type": "code",
   "execution_count": 86,
   "id": "ce788959",
   "metadata": {},
   "outputs": [],
   "source": [
    "combined_data_cleaned['job_type'].fillna('No job_type', inplace=True)\n",
    "combined_data_cleaned['is_remote'].fillna('False', inplace=True)"
   ]
  },
  {
   "cell_type": "code",
   "execution_count": 87,
   "id": "f426ebc7",
   "metadata": {},
   "outputs": [
    {
     "data": {
      "text/plain": [
       "job_url             0\n",
       "site                0\n",
       "title               0\n",
       "company             0\n",
       "location            0\n",
       "job_type            0\n",
       "date_posted         0\n",
       "min_amount          0\n",
       "max_amount          0\n",
       "is_remote           0\n",
       "num_urgent_words    0\n",
       "description         0\n",
       "dtype: int64"
      ]
     },
     "execution_count": 87,
     "metadata": {},
     "output_type": "execute_result"
    }
   ],
   "source": [
    "combined_data_cleaned.n().sum()"
   ]
  },
  {
   "cell_type": "code",
   "execution_count": 88,
   "id": "b8bd1a3a",
   "metadata": {},
   "outputs": [
    {
     "data": {
      "text/plain": [
       "job_url             143664\n",
       "site                143664\n",
       "title               143664\n",
       "company             143664\n",
       "location            143664\n",
       "job_type            143664\n",
       "date_posted         143664\n",
       "min_amount          143664\n",
       "max_amount          143664\n",
       "is_remote           143664\n",
       "num_urgent_words    143664\n",
       "description         143664\n",
       "dtype: int64"
      ]
     },
     "execution_count": 88,
     "metadata": {},
     "output_type": "execute_result"
    }
   ],
   "source": [
    "combined_data_cleaned.count()"
   ]
  },
  {
   "cell_type": "code",
   "execution_count": 89,
   "id": "9d1678d9",
   "metadata": {},
   "outputs": [],
   "source": [
    "jobs_df = combined_data_cleaned"
   ]
  },
  {
   "cell_type": "markdown",
   "id": "b7e36519",
   "metadata": {},
   "source": [
    "# Simplified text preprocessing\n"
   ]
  },
  {
   "cell_type": "code",
   "execution_count": 90,
   "id": "51b928d9",
   "metadata": {},
   "outputs": [],
   "source": [
    "def preprocess_text_simple(text):\n",
    "    # Lowercasing\n",
    "    text = text.lower()\n",
    "    # Removing non-alphabet characters\n",
    "    text = re.sub(r'[^a-z\\s]', '', text)\n",
    "    # Tokenize text\n",
    "    words = text.split()\n",
    "    # Remove stopwords and lemmatize\n",
    "    words = [lemmatizer.lemmatize(word) for word in words if word not in stop_words]\n",
    "    return ' '.join(words)"
   ]
  },
  {
   "cell_type": "markdown",
   "id": "37a6a358",
   "metadata": {},
   "source": [
    "# Apply simplified preprocessing to the job description\n"
   ]
  },
  {
   "cell_type": "code",
   "execution_count": 91,
   "id": "c52c4893",
   "metadata": {},
   "outputs": [],
   "source": [
    "jobs_df['description_processed'] = jobs_df['description'].apply(preprocess_text_simple)"
   ]
  },
  {
   "cell_type": "markdown",
   "id": "657e5aaf",
   "metadata": {},
   "source": [
    "# Vectorize the text using TF-IDF\n"
   ]
  },
  {
   "cell_type": "code",
   "execution_count": 92,
   "id": "fc68ab05",
   "metadata": {},
   "outputs": [],
   "source": [
    "tfidf_vectorizer = TfidfVectorizer(max_features=1000)\n",
    "X = tfidf_vectorizer.fit_transform(jobs_df['description_processed'])"
   ]
  },
  {
   "cell_type": "markdown",
   "id": "7d988c4d",
   "metadata": {},
   "source": [
    "# Normalize the feature vectors to unit norm\n"
   ]
  },
  {
   "cell_type": "code",
   "execution_count": 93,
   "id": "1cd27b37",
   "metadata": {},
   "outputs": [],
   "source": [
    "X_normalized = normalize(X)"
   ]
  },
  {
   "cell_type": "markdown",
   "id": "8888f78d",
   "metadata": {},
   "source": [
    "# Apply K-means clustering\n"
   ]
  },
  {
   "cell_type": "code",
   "execution_count": 101,
   "id": "b078997d",
   "metadata": {},
   "outputs": [
    {
     "name": "stderr",
     "output_type": "stream",
     "text": [
      "D:\\Tools\\anaconda\\Lib\\site-packages\\sklearn\\cluster\\_kmeans.py:1412: FutureWarning: The default value of `n_init` will change from 10 to 'auto' in 1.4. Set the value of `n_init` explicitly to suppress the warning\n",
      "  super()._check_params_vs_input(X, default_n_init=10)\n"
     ]
    },
    {
     "name": "stdout",
     "output_type": "stream",
     "text": [
      "Clusters: 2, Silhouette Score: 0.014056621772652681\n"
     ]
    },
    {
     "name": "stderr",
     "output_type": "stream",
     "text": [
      "D:\\Tools\\anaconda\\Lib\\site-packages\\sklearn\\cluster\\_kmeans.py:1412: FutureWarning: The default value of `n_init` will change from 10 to 'auto' in 1.4. Set the value of `n_init` explicitly to suppress the warning\n",
      "  super()._check_params_vs_input(X, default_n_init=10)\n"
     ]
    },
    {
     "name": "stdout",
     "output_type": "stream",
     "text": [
      "Clusters: 3, Silhouette Score: 0.018153825340085944\n"
     ]
    },
    {
     "name": "stderr",
     "output_type": "stream",
     "text": [
      "D:\\Tools\\anaconda\\Lib\\site-packages\\sklearn\\cluster\\_kmeans.py:1412: FutureWarning: The default value of `n_init` will change from 10 to 'auto' in 1.4. Set the value of `n_init` explicitly to suppress the warning\n",
      "  super()._check_params_vs_input(X, default_n_init=10)\n"
     ]
    },
    {
     "name": "stdout",
     "output_type": "stream",
     "text": [
      "Clusters: 4, Silhouette Score: 0.022667436014716456\n"
     ]
    },
    {
     "name": "stderr",
     "output_type": "stream",
     "text": [
      "D:\\Tools\\anaconda\\Lib\\site-packages\\sklearn\\cluster\\_kmeans.py:1412: FutureWarning: The default value of `n_init` will change from 10 to 'auto' in 1.4. Set the value of `n_init` explicitly to suppress the warning\n",
      "  super()._check_params_vs_input(X, default_n_init=10)\n"
     ]
    },
    {
     "name": "stdout",
     "output_type": "stream",
     "text": [
      "Clusters: 5, Silhouette Score: 0.015798890573895323\n"
     ]
    },
    {
     "name": "stderr",
     "output_type": "stream",
     "text": [
      "D:\\Tools\\anaconda\\Lib\\site-packages\\sklearn\\cluster\\_kmeans.py:1412: FutureWarning: The default value of `n_init` will change from 10 to 'auto' in 1.4. Set the value of `n_init` explicitly to suppress the warning\n",
      "  super()._check_params_vs_input(X, default_n_init=10)\n"
     ]
    },
    {
     "name": "stdout",
     "output_type": "stream",
     "text": [
      "Clusters: 6, Silhouette Score: 0.02214560075129343\n"
     ]
    },
    {
     "name": "stderr",
     "output_type": "stream",
     "text": [
      "D:\\Tools\\anaconda\\Lib\\site-packages\\sklearn\\cluster\\_kmeans.py:1412: FutureWarning: The default value of `n_init` will change from 10 to 'auto' in 1.4. Set the value of `n_init` explicitly to suppress the warning\n",
      "  super()._check_params_vs_input(X, default_n_init=10)\n"
     ]
    },
    {
     "name": "stdout",
     "output_type": "stream",
     "text": [
      "Clusters: 7, Silhouette Score: 0.02736099979931349\n"
     ]
    },
    {
     "name": "stderr",
     "output_type": "stream",
     "text": [
      "D:\\Tools\\anaconda\\Lib\\site-packages\\sklearn\\cluster\\_kmeans.py:1412: FutureWarning: The default value of `n_init` will change from 10 to 'auto' in 1.4. Set the value of `n_init` explicitly to suppress the warning\n",
      "  super()._check_params_vs_input(X, default_n_init=10)\n"
     ]
    },
    {
     "name": "stdout",
     "output_type": "stream",
     "text": [
      "Clusters: 8, Silhouette Score: 0.029328230601322666\n"
     ]
    },
    {
     "name": "stderr",
     "output_type": "stream",
     "text": [
      "D:\\Tools\\anaconda\\Lib\\site-packages\\sklearn\\cluster\\_kmeans.py:1412: FutureWarning: The default value of `n_init` will change from 10 to 'auto' in 1.4. Set the value of `n_init` explicitly to suppress the warning\n",
      "  super()._check_params_vs_input(X, default_n_init=10)\n"
     ]
    },
    {
     "name": "stdout",
     "output_type": "stream",
     "text": [
      "Clusters: 9, Silhouette Score: 0.03550524959015533\n"
     ]
    },
    {
     "name": "stderr",
     "output_type": "stream",
     "text": [
      "D:\\Tools\\anaconda\\Lib\\site-packages\\sklearn\\cluster\\_kmeans.py:1412: FutureWarning: The default value of `n_init` will change from 10 to 'auto' in 1.4. Set the value of `n_init` explicitly to suppress the warning\n",
      "  super()._check_params_vs_input(X, default_n_init=10)\n"
     ]
    },
    {
     "name": "stdout",
     "output_type": "stream",
     "text": [
      "Clusters: 10, Silhouette Score: 0.035913790302533305\n"
     ]
    }
   ],
   "source": [
    "# Apply K-means clustering\n",
    "from sklearn.metrics import silhouette_score\n",
    "\n",
    "# Example: Trying different numbers of clusters and computing silhouette scores\n",
    "scores = []\n",
    "range_n_clusters = list(range(2, 11))  # Example: from 2 to 10 clusters\n",
    "\n",
    "for n_clusters in range_n_clusters:\n",
    "    kmeans = KMeans(n_clusters=n_clusters, random_state=42).fit(X_normalized)\n",
    "    silhouette_avg = silhouette_score(X_normalized, kmeans.labels_)\n",
    "    scores.append(silhouette_avg)\n",
    "    print(f\"Clusters: {n_clusters}, Silhouette Score: {silhouette_avg}\")"
   ]
  },
  {
   "cell_type": "code",
   "execution_count": 94,
   "id": "a8a65410",
   "metadata": {},
   "outputs": [
    {
     "name": "stderr",
     "output_type": "stream",
     "text": [
      "D:\\Tools\\anaconda\\Lib\\site-packages\\sklearn\\cluster\\_kmeans.py:1412: FutureWarning: The default value of `n_init` will change from 10 to 'auto' in 1.4. Set the value of `n_init` explicitly to suppress the warning\n",
      "  super()._check_params_vs_input(X, default_n_init=10)\n"
     ]
    },
    {
     "data": {
      "text/html": [
       "<style>#sk-container-id-5 {color: black;}#sk-container-id-5 pre{padding: 0;}#sk-container-id-5 div.sk-toggleable {background-color: white;}#sk-container-id-5 label.sk-toggleable__label {cursor: pointer;display: block;width: 100%;margin-bottom: 0;padding: 0.3em;box-sizing: border-box;text-align: center;}#sk-container-id-5 label.sk-toggleable__label-arrow:before {content: \"▸\";float: left;margin-right: 0.25em;color: #696969;}#sk-container-id-5 label.sk-toggleable__label-arrow:hover:before {color: black;}#sk-container-id-5 div.sk-estimator:hover label.sk-toggleable__label-arrow:before {color: black;}#sk-container-id-5 div.sk-toggleable__content {max-height: 0;max-width: 0;overflow: hidden;text-align: left;background-color: #f0f8ff;}#sk-container-id-5 div.sk-toggleable__content pre {margin: 0.2em;color: black;border-radius: 0.25em;background-color: #f0f8ff;}#sk-container-id-5 input.sk-toggleable__control:checked~div.sk-toggleable__content {max-height: 200px;max-width: 100%;overflow: auto;}#sk-container-id-5 input.sk-toggleable__control:checked~label.sk-toggleable__label-arrow:before {content: \"▾\";}#sk-container-id-5 div.sk-estimator input.sk-toggleable__control:checked~label.sk-toggleable__label {background-color: #d4ebff;}#sk-container-id-5 div.sk-label input.sk-toggleable__control:checked~label.sk-toggleable__label {background-color: #d4ebff;}#sk-container-id-5 input.sk-hidden--visually {border: 0;clip: rect(1px 1px 1px 1px);clip: rect(1px, 1px, 1px, 1px);height: 1px;margin: -1px;overflow: hidden;padding: 0;position: absolute;width: 1px;}#sk-container-id-5 div.sk-estimator {font-family: monospace;background-color: #f0f8ff;border: 1px dotted black;border-radius: 0.25em;box-sizing: border-box;margin-bottom: 0.5em;}#sk-container-id-5 div.sk-estimator:hover {background-color: #d4ebff;}#sk-container-id-5 div.sk-parallel-item::after {content: \"\";width: 100%;border-bottom: 1px solid gray;flex-grow: 1;}#sk-container-id-5 div.sk-label:hover label.sk-toggleable__label {background-color: #d4ebff;}#sk-container-id-5 div.sk-serial::before {content: \"\";position: absolute;border-left: 1px solid gray;box-sizing: border-box;top: 0;bottom: 0;left: 50%;z-index: 0;}#sk-container-id-5 div.sk-serial {display: flex;flex-direction: column;align-items: center;background-color: white;padding-right: 0.2em;padding-left: 0.2em;position: relative;}#sk-container-id-5 div.sk-item {position: relative;z-index: 1;}#sk-container-id-5 div.sk-parallel {display: flex;align-items: stretch;justify-content: center;background-color: white;position: relative;}#sk-container-id-5 div.sk-item::before, #sk-container-id-5 div.sk-parallel-item::before {content: \"\";position: absolute;border-left: 1px solid gray;box-sizing: border-box;top: 0;bottom: 0;left: 50%;z-index: -1;}#sk-container-id-5 div.sk-parallel-item {display: flex;flex-direction: column;z-index: 1;position: relative;background-color: white;}#sk-container-id-5 div.sk-parallel-item:first-child::after {align-self: flex-end;width: 50%;}#sk-container-id-5 div.sk-parallel-item:last-child::after {align-self: flex-start;width: 50%;}#sk-container-id-5 div.sk-parallel-item:only-child::after {width: 0;}#sk-container-id-5 div.sk-dashed-wrapped {border: 1px dashed gray;margin: 0 0.4em 0.5em 0.4em;box-sizing: border-box;padding-bottom: 0.4em;background-color: white;}#sk-container-id-5 div.sk-label label {font-family: monospace;font-weight: bold;display: inline-block;line-height: 1.2em;}#sk-container-id-5 div.sk-label-container {text-align: center;}#sk-container-id-5 div.sk-container {/* jupyter's `normalize.less` sets `[hidden] { display: none; }` but bootstrap.min.css set `[hidden] { display: none !important; }` so we also need the `!important` here to be able to override the default hidden behavior on the sphinx rendered scikit-learn.org. See: https://github.com/scikit-learn/scikit-learn/issues/21755 */display: inline-block !important;position: relative;}#sk-container-id-5 div.sk-text-repr-fallback {display: none;}</style><div id=\"sk-container-id-5\" class=\"sk-top-container\"><div class=\"sk-text-repr-fallback\"><pre>KMeans(n_clusters=10, random_state=42)</pre><b>In a Jupyter environment, please rerun this cell to show the HTML representation or trust the notebook. <br />On GitHub, the HTML representation is unable to render, please try loading this page with nbviewer.org.</b></div><div class=\"sk-container\" hidden><div class=\"sk-item\"><div class=\"sk-estimator sk-toggleable\"><input class=\"sk-toggleable__control sk-hidden--visually\" id=\"sk-estimator-id-13\" type=\"checkbox\" checked><label for=\"sk-estimator-id-13\" class=\"sk-toggleable__label sk-toggleable__label-arrow\">KMeans</label><div class=\"sk-toggleable__content\"><pre>KMeans(n_clusters=10, random_state=42)</pre></div></div></div></div></div>"
      ],
      "text/plain": [
       "KMeans(n_clusters=10, random_state=42)"
      ]
     },
     "execution_count": 94,
     "metadata": {},
     "output_type": "execute_result"
    }
   ],
   "source": [
    "num_clusters = 8  # This is an arbitrary choice; adjust based on exploratory analysis\n",
    "kmeans = KMeans(n_clusters=num_clusters, random_state=42)\n",
    "kmeans.fit(X_normalized)"
   ]
  },
  {
   "cell_type": "markdown",
   "id": "c8b06efc",
   "metadata": {},
   "source": [
    "# Assign cluster labels to each job posting\n"
   ]
  },
  {
   "cell_type": "code",
   "execution_count": 95,
   "id": "2310fafa",
   "metadata": {},
   "outputs": [],
   "source": [
    "jobs_df['cluster'] = kmeans.labels_"
   ]
  },
  {
   "cell_type": "markdown",
   "id": "d82fbb52",
   "metadata": {},
   "source": [
    "# Prepare to explore the clusters\n"
   ]
  },
  {
   "cell_type": "code",
   "execution_count": 96,
   "id": "b927fd61",
   "metadata": {},
   "outputs": [
    {
     "name": "stdout",
     "output_type": "stream",
     "text": [
      "Suspect Cluster Job Titles:\n",
      "title\n",
      "Medical Assistant Certified                     486\n",
      "Equipment Maintenance Tech Support Assistant    448\n",
      "Project Engineer                                324\n",
      "Cash Reconciliation Analyst                     302\n",
      "Engineer, Projects                              244\n",
      "Operations Administrator                        243\n",
      "Controls Engineer - $85K to $100K salary        215\n",
      "BAS Applications Engineer                       200\n",
      "MRI Technologist                                193\n",
      "WA - MRI Technologist - $120 - Days             189\n",
      "Name: count, dtype: int64\n"
     ]
    }
   ],
   "source": [
    "# Example: Analyze a specific cluster\n",
    "suspect_cluster_index = 0  # Assuming cluster 0 is suspicious based on your analysis\n",
    "suspect_jobs = jobs_df[jobs_df['cluster'] == suspect_cluster_index]\n",
    "\n",
    "print(\"Suspect Cluster Job Titles:\")\n",
    "print(suspect_jobs['title'].value_counts().head(10))"
   ]
  },
  {
   "cell_type": "markdown",
   "id": "b0824d72",
   "metadata": {},
   "source": [
    "## Evaluate Cluster Quality\n"
   ]
  },
  {
   "cell_type": "code",
   "execution_count": 97,
   "id": "e93550e0",
   "metadata": {},
   "outputs": [
    {
     "name": "stdout",
     "output_type": "stream",
     "text": [
      "Cluster 0:\n",
      "project, work, engineering, equipment, design, ability, required, experience, customer, system\n",
      "Cluster 1:\n",
      "equipment, sse, pb, learning, handling, fee, operate, material, asset, paid\n",
      "Cluster 2:\n",
      "network, system, computer, cyber, course, information, defense, experience, engineering, status\n",
      "Cluster 3:\n",
      "software, engineering, engineer, computer, experience, development, bachelor, electrical, java, system\n",
      "Cluster 4:\n",
      "system, experience, quality, management, solution, network, administer, design, administrator, software\n",
      "Cluster 5:\n",
      "security, information, experience, network, system, risk, cyber, year, incident, cybersecurity\n",
      "Cluster 6:\n",
      "data, business, analytics, le, analyst, ai, database, sql, analysis, experience\n",
      "Cluster 7:\n",
      "rpa, automation, rate, hiring, ndash, soil, protection, process, pay, capture\n",
      "Cluster 8:\n",
      "team, experience, working, work, business, service, role, support, development, skill\n",
      "Cluster 9:\n",
      "developer, software, web, team, experience, workforce, role, job, development, year\n"
     ]
    }
   ],
   "source": [
    "def print_top_terms_per_cluster(tfidf_vectorizer, kmeans_model, n_terms=10):\n",
    "    # Get the feature names from the TF-IDF vectorizer\n",
    "    terms = tfidf_vectorizer.get_feature_names_out()\n",
    "    # Get the centroids of the clusters\n",
    "    centroids = kmeans_model.cluster_centers_\n",
    "    \n",
    "    for i, centroid in enumerate(centroids):\n",
    "        print(f\"Cluster {i}:\")\n",
    "        # Sort the features (terms) in the centroid in descending order of importance\n",
    "        top_terms_indices = centroid.argsort()[-n_terms:][::-1]\n",
    "        top_terms = [terms[ind] for ind in top_terms_indices]\n",
    "        print(\", \".join(top_terms))\n",
    "\n",
    "# Assuming you have your tfidf_vectorizer and kmeans model ready\n",
    "print_top_terms_per_cluster(tfidf_vectorizer, kmeans, n_terms=10)"
   ]
  },
  {
   "cell_type": "markdown",
   "id": "ee698627",
   "metadata": {},
   "source": [
    "# Evaluate Topic Relevance\n"
   ]
  },
  {
   "cell_type": "code",
   "execution_count": 98,
   "id": "057cbea4",
   "metadata": {},
   "outputs": [
    {
     "name": "stdout",
     "output_type": "stream",
     "text": [
      "Topic 0:\n",
      "software developer automation experience test team development solution web technology\n",
      "Topic 1:\n",
      "software developer office le looking work role working team type\n",
      "Topic 2:\n",
      "data pb power sse business bi analytics system asset performs\n",
      "Topic 3:\n",
      "security brbr data game business financial work threat intelligence system\n",
      "Topic 4:\n",
      "software experience ppmiddot regarding solution year knowledge client security information\n",
      "Topic 5:\n",
      "experience software system server handson management devops best administrator qa\n",
      "Topic 6:\n",
      "equipment system engineering data electrical design software perform operation engineer\n",
      "Topic 7:\n",
      "security network system information computer status experience course cyber employee\n",
      "Topic 8:\n",
      "security engineering experience information year management system risk support incident\n",
      "Topic 9:\n",
      "team work ncr working br support business experience role service\n"
     ]
    }
   ],
   "source": [
    "from sklearn.decomposition import LatentDirichletAllocation\n",
    "\n",
    "# Assuming you've already vectorized your text data with TF-IDF and want to apply LDA on it\n",
    "lda = LatentDirichletAllocation(n_components=num_clusters, random_state=42)\n",
    "lda.fit(X_normalized)\n",
    "\n",
    "def print_top_words_per_topic(model, feature_names, n_top_words):\n",
    "    for topic_idx, topic in enumerate(model.components_):\n",
    "        print(f\"Topic {topic_idx}:\")\n",
    "        top_features_ind = topic.argsort()[:-n_top_words - 1:-1]\n",
    "        top_features = [feature_names[i] for i in top_features_ind]\n",
    "        print(\" \".join(top_features))\n",
    "\n",
    "print_top_words_per_topic(lda, tfidf_vectorizer.get_feature_names_out(), 10)"
   ]
  },
  {
   "cell_type": "markdown",
   "id": "216c5655",
   "metadata": {},
   "source": [
    "### check score correlation "
   ]
  },
  {
   "cell_type": "markdown",
   "id": "7e9eb531",
   "metadata": {},
   "source": [
    "To do "
   ]
  },
  {
   "cell_type": "markdown",
   "id": "a098e17b",
   "metadata": {},
   "source": [
    "#### check data from kaggle to test check desc => 1000 +scraping data to eval model score "
   ]
  },
  {
   "cell_type": "code",
   "execution_count": null,
   "id": "2d23eb4e",
   "metadata": {},
   "outputs": [],
   "source": []
  },
  {
   "cell_type": "code",
   "execution_count": null,
   "id": "d9f60c41",
   "metadata": {},
   "outputs": [],
   "source": []
  },
  {
   "cell_type": "code",
   "execution_count": null,
   "id": "646b0031",
   "metadata": {},
   "outputs": [],
   "source": []
  },
  {
   "cell_type": "markdown",
   "id": "21babaf6",
   "metadata": {},
   "source": [
    "## Modeling "
   ]
  },
  {
   "cell_type": "code",
   "execution_count": 68,
   "id": "4fb4c44e",
   "metadata": {},
   "outputs": [],
   "source": [
    "from sklearn.pipeline import Pipeline\n",
    "from sklearn.compose import ColumnTransformer\n",
    "from sklearn.feature_extraction.text import TfidfVectorizer\n",
    "from sklearn.cluster import KMeans\n",
    "from sklearn.preprocessing import StandardScaler, OneHotEncoder\n",
    "\n",
    "# Example pipeline setup (simplified)\n",
    "text_features = 'description_processed'  # Assuming this is your text column\n",
    "numeric_features = ['min_amount', 'max_amount', 'num_urgent_words']  # Example numeric feature\n",
    "categorical_features = ['location', 'job_type']  # Example categorical features\n",
    "\n",
    "preprocessor = ColumnTransformer(\n",
    "    transformers=[\n",
    "        ('text', TfidfVectorizer(), text_features),\n",
    "        ('num', StandardScaler(), numeric_features),\n",
    "        ('cat', OneHotEncoder(), categorical_features)\n",
    "    ])\n"
   ]
  },
  {
   "cell_type": "code",
   "execution_count": 69,
   "id": "4c1b0897",
   "metadata": {},
   "outputs": [
    {
     "name": "stderr",
     "output_type": "stream",
     "text": [
      "D:\\Tools\\anaconda\\Lib\\site-packages\\sklearn\\cluster\\_kmeans.py:1412: FutureWarning: The default value of `n_init` will change from 10 to 'auto' in 1.4. Set the value of `n_init` explicitly to suppress the warning\n",
      "  super()._check_params_vs_input(X, default_n_init=10)\n"
     ]
    },
    {
     "data": {
      "text/html": [
       "<style>#sk-container-id-4 {color: black;}#sk-container-id-4 pre{padding: 0;}#sk-container-id-4 div.sk-toggleable {background-color: white;}#sk-container-id-4 label.sk-toggleable__label {cursor: pointer;display: block;width: 100%;margin-bottom: 0;padding: 0.3em;box-sizing: border-box;text-align: center;}#sk-container-id-4 label.sk-toggleable__label-arrow:before {content: \"▸\";float: left;margin-right: 0.25em;color: #696969;}#sk-container-id-4 label.sk-toggleable__label-arrow:hover:before {color: black;}#sk-container-id-4 div.sk-estimator:hover label.sk-toggleable__label-arrow:before {color: black;}#sk-container-id-4 div.sk-toggleable__content {max-height: 0;max-width: 0;overflow: hidden;text-align: left;background-color: #f0f8ff;}#sk-container-id-4 div.sk-toggleable__content pre {margin: 0.2em;color: black;border-radius: 0.25em;background-color: #f0f8ff;}#sk-container-id-4 input.sk-toggleable__control:checked~div.sk-toggleable__content {max-height: 200px;max-width: 100%;overflow: auto;}#sk-container-id-4 input.sk-toggleable__control:checked~label.sk-toggleable__label-arrow:before {content: \"▾\";}#sk-container-id-4 div.sk-estimator input.sk-toggleable__control:checked~label.sk-toggleable__label {background-color: #d4ebff;}#sk-container-id-4 div.sk-label input.sk-toggleable__control:checked~label.sk-toggleable__label {background-color: #d4ebff;}#sk-container-id-4 input.sk-hidden--visually {border: 0;clip: rect(1px 1px 1px 1px);clip: rect(1px, 1px, 1px, 1px);height: 1px;margin: -1px;overflow: hidden;padding: 0;position: absolute;width: 1px;}#sk-container-id-4 div.sk-estimator {font-family: monospace;background-color: #f0f8ff;border: 1px dotted black;border-radius: 0.25em;box-sizing: border-box;margin-bottom: 0.5em;}#sk-container-id-4 div.sk-estimator:hover {background-color: #d4ebff;}#sk-container-id-4 div.sk-parallel-item::after {content: \"\";width: 100%;border-bottom: 1px solid gray;flex-grow: 1;}#sk-container-id-4 div.sk-label:hover label.sk-toggleable__label {background-color: #d4ebff;}#sk-container-id-4 div.sk-serial::before {content: \"\";position: absolute;border-left: 1px solid gray;box-sizing: border-box;top: 0;bottom: 0;left: 50%;z-index: 0;}#sk-container-id-4 div.sk-serial {display: flex;flex-direction: column;align-items: center;background-color: white;padding-right: 0.2em;padding-left: 0.2em;position: relative;}#sk-container-id-4 div.sk-item {position: relative;z-index: 1;}#sk-container-id-4 div.sk-parallel {display: flex;align-items: stretch;justify-content: center;background-color: white;position: relative;}#sk-container-id-4 div.sk-item::before, #sk-container-id-4 div.sk-parallel-item::before {content: \"\";position: absolute;border-left: 1px solid gray;box-sizing: border-box;top: 0;bottom: 0;left: 50%;z-index: -1;}#sk-container-id-4 div.sk-parallel-item {display: flex;flex-direction: column;z-index: 1;position: relative;background-color: white;}#sk-container-id-4 div.sk-parallel-item:first-child::after {align-self: flex-end;width: 50%;}#sk-container-id-4 div.sk-parallel-item:last-child::after {align-self: flex-start;width: 50%;}#sk-container-id-4 div.sk-parallel-item:only-child::after {width: 0;}#sk-container-id-4 div.sk-dashed-wrapped {border: 1px dashed gray;margin: 0 0.4em 0.5em 0.4em;box-sizing: border-box;padding-bottom: 0.4em;background-color: white;}#sk-container-id-4 div.sk-label label {font-family: monospace;font-weight: bold;display: inline-block;line-height: 1.2em;}#sk-container-id-4 div.sk-label-container {text-align: center;}#sk-container-id-4 div.sk-container {/* jupyter's `normalize.less` sets `[hidden] { display: none; }` but bootstrap.min.css set `[hidden] { display: none !important; }` so we also need the `!important` here to be able to override the default hidden behavior on the sphinx rendered scikit-learn.org. See: https://github.com/scikit-learn/scikit-learn/issues/21755 */display: inline-block !important;position: relative;}#sk-container-id-4 div.sk-text-repr-fallback {display: none;}</style><div id=\"sk-container-id-4\" class=\"sk-top-container\"><div class=\"sk-text-repr-fallback\"><pre>Pipeline(steps=[(&#x27;preprocessor&#x27;,\n",
       "                 ColumnTransformer(transformers=[(&#x27;text&#x27;, TfidfVectorizer(),\n",
       "                                                  &#x27;description_processed&#x27;),\n",
       "                                                 (&#x27;num&#x27;, StandardScaler(),\n",
       "                                                  [&#x27;min_amount&#x27;, &#x27;max_amount&#x27;,\n",
       "                                                   &#x27;num_urgent_words&#x27;]),\n",
       "                                                 (&#x27;cat&#x27;, OneHotEncoder(),\n",
       "                                                  [&#x27;location&#x27;, &#x27;job_type&#x27;])])),\n",
       "                (&#x27;model&#x27;, KMeans(n_clusters=5, random_state=42))])</pre><b>In a Jupyter environment, please rerun this cell to show the HTML representation or trust the notebook. <br />On GitHub, the HTML representation is unable to render, please try loading this page with nbviewer.org.</b></div><div class=\"sk-container\" hidden><div class=\"sk-item sk-dashed-wrapped\"><div class=\"sk-label-container\"><div class=\"sk-label sk-toggleable\"><input class=\"sk-toggleable__control sk-hidden--visually\" id=\"sk-estimator-id-4\" type=\"checkbox\" ><label for=\"sk-estimator-id-4\" class=\"sk-toggleable__label sk-toggleable__label-arrow\">Pipeline</label><div class=\"sk-toggleable__content\"><pre>Pipeline(steps=[(&#x27;preprocessor&#x27;,\n",
       "                 ColumnTransformer(transformers=[(&#x27;text&#x27;, TfidfVectorizer(),\n",
       "                                                  &#x27;description_processed&#x27;),\n",
       "                                                 (&#x27;num&#x27;, StandardScaler(),\n",
       "                                                  [&#x27;min_amount&#x27;, &#x27;max_amount&#x27;,\n",
       "                                                   &#x27;num_urgent_words&#x27;]),\n",
       "                                                 (&#x27;cat&#x27;, OneHotEncoder(),\n",
       "                                                  [&#x27;location&#x27;, &#x27;job_type&#x27;])])),\n",
       "                (&#x27;model&#x27;, KMeans(n_clusters=5, random_state=42))])</pre></div></div></div><div class=\"sk-serial\"><div class=\"sk-item sk-dashed-wrapped\"><div class=\"sk-label-container\"><div class=\"sk-label sk-toggleable\"><input class=\"sk-toggleable__control sk-hidden--visually\" id=\"sk-estimator-id-5\" type=\"checkbox\" ><label for=\"sk-estimator-id-5\" class=\"sk-toggleable__label sk-toggleable__label-arrow\">preprocessor: ColumnTransformer</label><div class=\"sk-toggleable__content\"><pre>ColumnTransformer(transformers=[(&#x27;text&#x27;, TfidfVectorizer(),\n",
       "                                 &#x27;description_processed&#x27;),\n",
       "                                (&#x27;num&#x27;, StandardScaler(),\n",
       "                                 [&#x27;min_amount&#x27;, &#x27;max_amount&#x27;,\n",
       "                                  &#x27;num_urgent_words&#x27;]),\n",
       "                                (&#x27;cat&#x27;, OneHotEncoder(),\n",
       "                                 [&#x27;location&#x27;, &#x27;job_type&#x27;])])</pre></div></div></div><div class=\"sk-parallel\"><div class=\"sk-parallel-item\"><div class=\"sk-item\"><div class=\"sk-label-container\"><div class=\"sk-label sk-toggleable\"><input class=\"sk-toggleable__control sk-hidden--visually\" id=\"sk-estimator-id-6\" type=\"checkbox\" ><label for=\"sk-estimator-id-6\" class=\"sk-toggleable__label sk-toggleable__label-arrow\">text</label><div class=\"sk-toggleable__content\"><pre>description_processed</pre></div></div></div><div class=\"sk-serial\"><div class=\"sk-item\"><div class=\"sk-estimator sk-toggleable\"><input class=\"sk-toggleable__control sk-hidden--visually\" id=\"sk-estimator-id-7\" type=\"checkbox\" ><label for=\"sk-estimator-id-7\" class=\"sk-toggleable__label sk-toggleable__label-arrow\">TfidfVectorizer</label><div class=\"sk-toggleable__content\"><pre>TfidfVectorizer()</pre></div></div></div></div></div></div><div class=\"sk-parallel-item\"><div class=\"sk-item\"><div class=\"sk-label-container\"><div class=\"sk-label sk-toggleable\"><input class=\"sk-toggleable__control sk-hidden--visually\" id=\"sk-estimator-id-8\" type=\"checkbox\" ><label for=\"sk-estimator-id-8\" class=\"sk-toggleable__label sk-toggleable__label-arrow\">num</label><div class=\"sk-toggleable__content\"><pre>[&#x27;min_amount&#x27;, &#x27;max_amount&#x27;, &#x27;num_urgent_words&#x27;]</pre></div></div></div><div class=\"sk-serial\"><div class=\"sk-item\"><div class=\"sk-estimator sk-toggleable\"><input class=\"sk-toggleable__control sk-hidden--visually\" id=\"sk-estimator-id-9\" type=\"checkbox\" ><label for=\"sk-estimator-id-9\" class=\"sk-toggleable__label sk-toggleable__label-arrow\">StandardScaler</label><div class=\"sk-toggleable__content\"><pre>StandardScaler()</pre></div></div></div></div></div></div><div class=\"sk-parallel-item\"><div class=\"sk-item\"><div class=\"sk-label-container\"><div class=\"sk-label sk-toggleable\"><input class=\"sk-toggleable__control sk-hidden--visually\" id=\"sk-estimator-id-10\" type=\"checkbox\" ><label for=\"sk-estimator-id-10\" class=\"sk-toggleable__label sk-toggleable__label-arrow\">cat</label><div class=\"sk-toggleable__content\"><pre>[&#x27;location&#x27;, &#x27;job_type&#x27;]</pre></div></div></div><div class=\"sk-serial\"><div class=\"sk-item\"><div class=\"sk-estimator sk-toggleable\"><input class=\"sk-toggleable__control sk-hidden--visually\" id=\"sk-estimator-id-11\" type=\"checkbox\" ><label for=\"sk-estimator-id-11\" class=\"sk-toggleable__label sk-toggleable__label-arrow\">OneHotEncoder</label><div class=\"sk-toggleable__content\"><pre>OneHotEncoder()</pre></div></div></div></div></div></div></div></div><div class=\"sk-item\"><div class=\"sk-estimator sk-toggleable\"><input class=\"sk-toggleable__control sk-hidden--visually\" id=\"sk-estimator-id-12\" type=\"checkbox\" ><label for=\"sk-estimator-id-12\" class=\"sk-toggleable__label sk-toggleable__label-arrow\">KMeans</label><div class=\"sk-toggleable__content\"><pre>KMeans(n_clusters=5, random_state=42)</pre></div></div></div></div></div></div></div>"
      ],
      "text/plain": [
       "Pipeline(steps=[('preprocessor',\n",
       "                 ColumnTransformer(transformers=[('text', TfidfVectorizer(),\n",
       "                                                  'description_processed'),\n",
       "                                                 ('num', StandardScaler(),\n",
       "                                                  ['min_amount', 'max_amount',\n",
       "                                                   'num_urgent_words']),\n",
       "                                                 ('cat', OneHotEncoder(),\n",
       "                                                  ['location', 'job_type'])])),\n",
       "                ('model', KMeans(n_clusters=5, random_state=42))])"
      ]
     },
     "execution_count": 69,
     "metadata": {},
     "output_type": "execute_result"
    }
   ],
   "source": [
    "# Example model (this could be a clusterer or classifier, depending on the stage)\n",
    "model = KMeans(n_clusters=5, random_state=42)\n",
    "\n",
    "pipeline = Pipeline(steps=[('preprocessor', preprocessor),\n",
    "                           ('model', model)])\n",
    "\n",
    "# Fit the pipeline with your data\n",
    "pipeline.fit(jobs_df)\n",
    "\n"
   ]
  },
  {
   "cell_type": "code",
   "execution_count": 71,
   "id": "6fe73cd7",
   "metadata": {},
   "outputs": [],
   "source": [
    "# Predict or transform new data\n",
    "# Example new job postings\n",
    "new_jobs = [\n",
    "    {\"description\": \"Senior Data Scientist, NYC, high salary.\", \"salary_range\": 150000, \"location\": \"NYC\", \"job_type\": \"Full-time\"},\n",
    "    {\"description\": \"Entry-level Software Developer, remote work available.\", \"salary_range\": 80000, \"location\": \"Remote\", \"job_type\": \"Full-time\"}\n",
    "]"
   ]
  },
  {
   "cell_type": "code",
   "execution_count": 72,
   "id": "58a45a51",
   "metadata": {},
   "outputs": [],
   "source": [
    "new_data = pd.DataFrame(new_jobs)\n"
   ]
  },
  {
   "cell_type": "code",
   "execution_count": null,
   "id": "7049193e",
   "metadata": {},
   "outputs": [],
   "source": []
  }
 ],
 "metadata": {
  "kernelspec": {
   "display_name": "Python 3 (ipykernel)",
   "language": "python",
   "name": "python3"
  },
  "language_info": {
   "codemirror_mode": {
    "name": "ipython",
    "version": 3
   },
   "file_extension": ".py",
   "mimetype": "text/x-python",
   "name": "python",
   "nbconvert_exporter": "python",
   "pygments_lexer": "ipython3",
   "version": "3.11.5"
  }
 },
 "nbformat": 4,
 "nbformat_minor": 5
}
