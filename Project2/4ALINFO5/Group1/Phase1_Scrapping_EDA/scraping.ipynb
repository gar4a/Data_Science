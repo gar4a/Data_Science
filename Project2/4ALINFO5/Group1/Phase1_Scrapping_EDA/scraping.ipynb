{
 "cells": [
  {
   "cell_type": "code",
   "execution_count": 1,
   "metadata": {},
   "outputs": [],
   "source": [
    "from bs4 import BeautifulSoup\n",
    "import requests"
   ]
  },
  {
   "cell_type": "code",
   "execution_count": 2,
   "metadata": {},
   "outputs": [],
   "source": [
    "url = \"https://www.nyc.gov/site/nypd/stats/traffic-data/traffic-data-collision.page\"\n",
    "response = requests.get(url)\n",
    "\n",
    "if response.status_code == 200:\n",
    "    soup = BeautifulSoup(response.text, 'html.parser')"
   ]
  },
  {
   "cell_type": "code",
   "execution_count": 3,
   "metadata": {},
   "outputs": [
    {
     "data": {
      "text/plain": [
       "['/assets/nypd/downloads/excel/traffic_data/cityacc-en-us.xlsx',\n",
       " '/assets/nypd/downloads/excel/traffic_data/mnacc-en-us.xlsx',\n",
       " '/assets/nypd/downloads/excel/traffic_data/bxacc-en-us.xlsx',\n",
       " '/assets/nypd/downloads/excel/traffic_data/bkacc-en-us.xlsx',\n",
       " '/assets/nypd/downloads/excel/traffic_data/qnacc-en-us.xlsx',\n",
       " '/assets/nypd/downloads/excel/traffic_data/siacc-en-us.xlsx',\n",
       " '/assets/nypd/downloads/excel/traffic_data/mnhacc-en-us.xlsx',\n",
       " '/assets/nypd/downloads/excel/traffic_data/bxhacc-en-us.xlsx',\n",
       " '/assets/nypd/downloads/excel/traffic_data/bkhacc-en-us.xlsx',\n",
       " '/assets/nypd/downloads/excel/traffic_data/qnhacc-en-us.xlsx',\n",
       " '/assets/nypd/downloads/excel/traffic_data/sihacc-en-us.xlsx']"
      ]
     },
     "execution_count": 3,
     "metadata": {},
     "output_type": "execute_result"
    }
   ],
   "source": [
    "dataContainer = soup.find_all('ul')[2]\n",
    "all = dataContainer.find_all('li')\n",
    "allLinks = [li.find('p').find_all('a')[1].get('href') for li in all]\n",
    "allLinks"
   ]
  },
  {
   "cell_type": "code",
   "execution_count": 4,
   "metadata": {},
   "outputs": [
    {
     "name": "stdout",
     "output_type": "stream",
     "text": [
      "Downloaded: cityacc-en-us.xlsx\n",
      "Downloaded: mnacc-en-us.xlsx\n",
      "Downloaded: bxacc-en-us.xlsx\n",
      "Downloaded: bkacc-en-us.xlsx\n",
      "Downloaded: qnacc-en-us.xlsx\n",
      "Downloaded: siacc-en-us.xlsx\n",
      "Downloaded: mnhacc-en-us.xlsx\n",
      "Downloaded: bxhacc-en-us.xlsx\n",
      "Downloaded: bkhacc-en-us.xlsx\n",
      "Downloaded: qnhacc-en-us.xlsx\n",
      "Downloaded: sihacc-en-us.xlsx\n"
     ]
    }
   ],
   "source": [
    "files = []\n",
    "for link in allLinks:\n",
    "    fileResponse = requests.get('https://www.nyc.gov/' + link)\n",
    "    if fileResponse.status_code == 200:\n",
    "        fileName = link.split('/')[-1]\n",
    "        files.append(fileName)\n",
    "        with open(fileName, 'wb') as file:\n",
    "            file.write(fileResponse.content)\n",
    "\n",
    "        print(f\"Downloaded: {fileName}\")\n",
    "\n",
    "    else:\n",
    "        print(f\"Failed to download: {fileName}, Status code: {fileResponse.status_code}\")"
   ]
  },
  {
   "cell_type": "code",
   "execution_count": null,
   "metadata": {},
   "outputs": [],
   "source": []
  }
 ],
 "metadata": {
  "kernelspec": {
   "display_name": "Python 3",
   "language": "python",
   "name": "python3"
  },
  "language_info": {
   "codemirror_mode": {
    "name": "ipython",
    "version": 3
   },
   "file_extension": ".py",
   "mimetype": "text/x-python",
   "name": "python",
   "nbconvert_exporter": "python",
   "pygments_lexer": "ipython3",
   "version": "3.8.5"
  }
 },
 "nbformat": 4,
 "nbformat_minor": 4
}
